{
  "nbformat": 4,
  "nbformat_minor": 0,
  "metadata": {
    "colab": {
      "name": "LOAD_DATA.ipynb",
      "version": "0.3.2",
      "provenance": [],
      "collapsed_sections": []
    },
    "kernelspec": {
      "name": "python3",
      "display_name": "Python 3"
    },
    "accelerator": "GPU"
  },
  "cells": [
    {
      "cell_type": "markdown",
      "metadata": {
        "id": "view-in-github",
        "colab_type": "text"
      },
      "source": [
        "[View in Colaboratory](https://colab.research.google.com/github/azadehmanouchehri/colon_jpg_data/blob/master/LOAD_DATA.ipynb)"
      ]
    },
    {
      "metadata": {
        "id": "lhCHSQuQCU2s",
        "colab_type": "code",
        "colab": {
          "base_uri": "https://localhost:8080/",
          "height": 116
        },
        "outputId": "3ccda27b-00a1-4ad2-c4f3-9508a3b0ea7a"
      },
      "cell_type": "code",
      "source": [
        "!git clone https://github.com/azadehmanouchehri/colon_jpg_data.git"
      ],
      "execution_count": 3,
      "outputs": [
        {
          "output_type": "stream",
          "text": [
            "Cloning into 'colon_jpg_data'...\n",
            "remote: Counting objects: 34, done.\u001b[K\n",
            "remote: Compressing objects: 100% (32/32), done.\u001b[K\n",
            "remote: Total 34 (delta 8), reused 0 (delta 0), pack-reused 0\u001b[K\n",
            "Unpacking objects: 100% (34/34), done.\n"
          ],
          "name": "stdout"
        }
      ]
    },
    {
      "metadata": {
        "id": "Z3asBzezFxGr",
        "colab_type": "code",
        "colab": {
          "base_uri": "https://localhost:8080/",
          "height": 57
        },
        "outputId": "a1354627-70ef-4ec5-bc91-e6223f23f61c"
      },
      "cell_type": "code",
      "source": [
        "!ls colon_jpg_data"
      ],
      "execution_count": 3,
      "outputs": [
        {
          "output_type": "stream",
          "text": [
            "Ground Truth.zip  GT4.zip     GT_wp.zip  im2.zip  im4.zip    README.md\r\n",
            "GT3.zip\t\t  GT all.zip  im1.zip\t im3.zip  im_wp.zip\r\n"
          ],
          "name": "stdout"
        }
      ]
    },
    {
      "metadata": {
        "id": "TKyA_k0xGBh0",
        "colab_type": "code",
        "colab": {}
      },
      "cell_type": "code",
      "source": [
        "import zipfile\n",
        "zip_ref = zipfile.ZipFile('colon_jpg_data/im3.zip', 'r')\n",
        "zip_ref.extractall('data1')\n",
        "zip_ref.close()\n",
        "import cv2\n",
        "import numpy as np\n",
        "import glob\n",
        "image_path=\"data1/im3/\"\n",
        "images=glob.glob(image_path+\"*.jpg\")\n",
        "images.sort()\n",
        "train_data=[]\n",
        "for img in images:\n",
        "    image=cv2.imread(img)\n",
        "    image=image.astype(np.float32)\n",
        "    train_data.append(image)\n",
        "zip_ref = zipfile.ZipFile('colon_jpg_data/im4.zip', 'r')\n",
        "zip_ref.extractall('data2')\n",
        "zip_ref.close()\n",
        "image_path=\"data2/im4/\"\n",
        "images=glob.glob(image_path+\"*.jpg\")\n",
        "images.sort()\n",
        "for img in images:\n",
        "    image=cv2.imread(img)\n",
        "    image=image.astype(np.float32)\n",
        "    train_data.append(image)\n",
        "train_data = np.reshape(train_data, (len(train_data), 240, 282, 3))\n"
      ],
      "execution_count": 0,
      "outputs": []
    },
    {
      "metadata": {
        "id": "G_f0Aj8WHhLL",
        "colab_type": "code",
        "colab": {
          "base_uri": "https://localhost:8080/",
          "height": 37
        },
        "outputId": "012bf744-f98b-417e-b4a5-cd231c0b743b"
      },
      "cell_type": "code",
      "source": [
        "print(len(train_data))"
      ],
      "execution_count": 5,
      "outputs": [
        {
          "output_type": "stream",
          "text": [
            "3672\n"
          ],
          "name": "stdout"
        }
      ]
    },
    {
      "metadata": {
        "id": "UZpeIx63HoK-",
        "colab_type": "code",
        "colab": {}
      },
      "cell_type": "code",
      "source": [
        "import zipfile\n",
        "zip_ref = zipfile.ZipFile('colon_jpg_data/GT3.zip', 'r')\n",
        "zip_ref.extractall('GT1')\n",
        "zip_ref.close()\n",
        "lebel_path=\"GT1/GT3/\"\n",
        "lebels=glob.glob(lebel_path+\"*.jpg\")\n",
        "lebels.sort()\n",
        "y_train=[]\n",
        "seg_labels = np.zeros([240, 282, 2], dtype='uint8')\n",
        "for l in lebels:\n",
        "    label=cv2.imread(l)\n",
        "    #label=label.astype(np.float32)\n",
        "    label = label[:,:,0]\n",
        "    seg_labels[:,:,0]=(label<=25)\n",
        "    seg_labels[:,:,1]=(label>=26)\n",
        "    seg_labels=seg_labels[:,:,0:2]\n",
        "    y_train.append(seg_labels)\n",
        "zip_ref = zipfile.ZipFile('colon_jpg_data/GT4.zip', 'r')\n",
        "zip_ref.extractall('GT2')\n",
        "zip_ref.close()\n",
        "lebel_path=\"GT2/GT4/\"\n",
        "lebels=glob.glob(lebel_path+\"*.jpg\")\n",
        "lebels.sort()\n",
        "for l in lebels:\n",
        "    label=cv2.imread(l)\n",
        "    label=label.astype(np.float32)\n",
        "    label = label[:,:,0]\n",
        "    seg_labels[:,:,0]=(label<=25)\n",
        "    seg_labels[:,:,1]=(label>=26)\n",
        "    seg_labels=seg_labels[:,:,0:2]\n",
        "    y_train.append(seg_labels)\n",
        "\n",
        "y_train = np.reshape(y_train, (len(y_train), 240, 282, 2))\n"
      ],
      "execution_count": 0,
      "outputs": []
    }
  ]
}